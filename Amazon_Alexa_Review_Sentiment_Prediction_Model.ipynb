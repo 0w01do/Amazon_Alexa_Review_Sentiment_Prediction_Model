{
 "cells": [
  {
   "cell_type": "code",
   "execution_count": 1,
   "id": "e17bd448",
   "metadata": {},
   "outputs": [],
   "source": [
    "import pandas as pd\n",
    "import numpy as np\n",
    "import matplotlib.pyplot as plt\n",
    "import seaborn as sns\n",
    "import nltk\n",
    "import re\n",
    "import tensorflow as tf\n",
    "from tensorflow import keras\n",
    "from keras.preprocessing.text import Tokenizer\n",
    "from sklearn.metrics import classification_report,confusion_matrix\n",
    "from sklearn.model_selection import train_test_split"
   ]
  },
  {
   "cell_type": "markdown",
   "id": "042c2d32",
   "metadata": {},
   "source": [
    "# Read Dataset"
   ]
  },
  {
   "cell_type": "code",
   "execution_count": 2,
   "id": "138045c4",
   "metadata": {},
   "outputs": [],
   "source": [
    "import pandas as pd \n",
    "df = pd.read_csv(\"amazon_alexa.csv\")"
   ]
  },
  {
   "cell_type": "code",
   "execution_count": 3,
   "id": "c619c86a",
   "metadata": {},
   "outputs": [
    {
     "data": {
      "text/html": [
       "<div>\n",
       "<style scoped>\n",
       "    .dataframe tbody tr th:only-of-type {\n",
       "        vertical-align: middle;\n",
       "    }\n",
       "\n",
       "    .dataframe tbody tr th {\n",
       "        vertical-align: top;\n",
       "    }\n",
       "\n",
       "    .dataframe thead th {\n",
       "        text-align: right;\n",
       "    }\n",
       "</style>\n",
       "<table border=\"1\" class=\"dataframe\">\n",
       "  <thead>\n",
       "    <tr style=\"text-align: right;\">\n",
       "      <th></th>\n",
       "      <th>reviews</th>\n",
       "      <th>sentiment</th>\n",
       "    </tr>\n",
       "  </thead>\n",
       "  <tbody>\n",
       "    <tr>\n",
       "      <th>0</th>\n",
       "      <td>Love my Echo!</td>\n",
       "      <td>1</td>\n",
       "    </tr>\n",
       "    <tr>\n",
       "      <th>1</th>\n",
       "      <td>Loved it!</td>\n",
       "      <td>1</td>\n",
       "    </tr>\n",
       "    <tr>\n",
       "      <th>2</th>\n",
       "      <td>Sometimes while playing a game, you can answer...</td>\n",
       "      <td>1</td>\n",
       "    </tr>\n",
       "    <tr>\n",
       "      <th>3</th>\n",
       "      <td>I have had a lot of fun with this thing. My 4 ...</td>\n",
       "      <td>1</td>\n",
       "    </tr>\n",
       "    <tr>\n",
       "      <th>4</th>\n",
       "      <td>Music</td>\n",
       "      <td>1</td>\n",
       "    </tr>\n",
       "  </tbody>\n",
       "</table>\n",
       "</div>"
      ],
      "text/plain": [
       "                                             reviews  sentiment\n",
       "0                                      Love my Echo!          1\n",
       "1                                          Loved it!          1\n",
       "2  Sometimes while playing a game, you can answer...          1\n",
       "3  I have had a lot of fun with this thing. My 4 ...          1\n",
       "4                                              Music          1"
      ]
     },
     "execution_count": 3,
     "metadata": {},
     "output_type": "execute_result"
    }
   ],
   "source": [
    "df.head()"
   ]
  },
  {
   "cell_type": "markdown",
   "id": "9a4b478b",
   "metadata": {},
   "source": [
    "# Null values"
   ]
  },
  {
   "cell_type": "code",
   "execution_count": 4,
   "id": "c7a22f50",
   "metadata": {},
   "outputs": [
    {
     "data": {
      "text/plain": [
       "reviews      0\n",
       "sentiment    0\n",
       "dtype: int64"
      ]
     },
     "execution_count": 4,
     "metadata": {},
     "output_type": "execute_result"
    }
   ],
   "source": [
    "df.isnull().sum()"
   ]
  },
  {
   "cell_type": "code",
   "execution_count": 5,
   "id": "6203d30e",
   "metadata": {},
   "outputs": [
    {
     "data": {
      "image/png": "[encoded data removed]",
      "text/plain": [
       "<Figure size 640x480 with 1 Axes>"
      ]
     },
     "metadata": {},
     "output_type": "display_data"
    }
   ],
   "source": [
    "from collections import Counter\n",
    "\n",
    "cs = Counter(df['sentiment'])\n",
    "cs\n",
    "\n",
    "plt.bar(cs.keys() , cs.values())\n",
    "plt.xlabel('Sentiment')\n",
    "plt.ylabel('Frequency')\n",
    "plt.show()"
   ]
  },
  {
   "cell_type": "markdown",
   "id": "c7e14750",
   "metadata": {},
   "source": [
    "# Preprocessing"
   ]
  },
  {
   "cell_type": "code",
   "execution_count": 6,
   "id": "413cd540",
   "metadata": {},
   "outputs": [],
   "source": [
    "import nltk\n",
    "import re\n",
    "from nltk import word_tokenize\n",
    "from nltk.corpus import stopwords\n",
    "from nltk.stem.porter import PorterStemmer"
   ]
  },
  {
   "attachments": {},
   "cell_type": "markdown",
   "id": "2b5b04e1",
   "metadata": {},
   "source": [
    "Removing punctuations"
   ]
  },
  {
   "cell_type": "code",
   "execution_count": 7,
   "id": "c2b1de16",
   "metadata": {},
   "outputs": [],
   "source": [
    "#removing punctuations\n",
    "df.replace('[^a-zA-Z]', ' ',regex = True,inplace = True)"
   ]
  },
  {
   "cell_type": "code",
   "execution_count": 8,
   "id": "1c2ed58b",
   "metadata": {},
   "outputs": [
    {
     "data": {
      "text/html": [
       "<div>\n",
       "<style scoped>\n",
       "    .dataframe tbody tr th:only-of-type {\n",
       "        vertical-align: middle;\n",
       "    }\n",
       "\n",
       "    .dataframe tbody tr th {\n",
       "        vertical-align: top;\n",
       "    }\n",
       "\n",
       "    .dataframe thead th {\n",
       "        text-align: right;\n",
       "    }\n",
       "</style>\n",
       "<table border=\"1\" class=\"dataframe\">\n",
       "  <thead>\n",
       "    <tr style=\"text-align: right;\">\n",
       "      <th></th>\n",
       "      <th>reviews</th>\n",
       "      <th>sentiment</th>\n",
       "    </tr>\n",
       "  </thead>\n",
       "  <tbody>\n",
       "    <tr>\n",
       "      <th>0</th>\n",
       "      <td>Love my Echo</td>\n",
       "      <td>1</td>\n",
       "    </tr>\n",
       "    <tr>\n",
       "      <th>1</th>\n",
       "      <td>Loved it</td>\n",
       "      <td>1</td>\n",
       "    </tr>\n",
       "    <tr>\n",
       "      <th>2</th>\n",
       "      <td>Sometimes while playing a game  you can answer...</td>\n",
       "      <td>1</td>\n",
       "    </tr>\n",
       "    <tr>\n",
       "      <th>3</th>\n",
       "      <td>I have had a lot of fun with this thing  My   ...</td>\n",
       "      <td>1</td>\n",
       "    </tr>\n",
       "    <tr>\n",
       "      <th>4</th>\n",
       "      <td>Music</td>\n",
       "      <td>1</td>\n",
       "    </tr>\n",
       "  </tbody>\n",
       "</table>\n",
       "</div>"
      ],
      "text/plain": [
       "                                             reviews  sentiment\n",
       "0                                      Love my Echo           1\n",
       "1                                          Loved it           1\n",
       "2  Sometimes while playing a game  you can answer...          1\n",
       "3  I have had a lot of fun with this thing  My   ...          1\n",
       "4                                              Music          1"
      ]
     },
     "execution_count": 8,
     "metadata": {},
     "output_type": "execute_result"
    }
   ],
   "source": [
    "df.head()"
   ]
  },
  {
   "attachments": {},
   "cell_type": "markdown",
   "id": "5096db2e",
   "metadata": {},
   "source": [
    "Converting to lowercase"
   ]
  },
  {
   "cell_type": "code",
   "execution_count": 9,
   "id": "dfcb3f22",
   "metadata": {},
   "outputs": [],
   "source": [
    "#converting to lowercase\n",
    "df['reviews'] = df['reviews'].str.lower()"
   ]
  },
  {
   "cell_type": "code",
   "execution_count": 39,
   "id": "f2e3e2d2",
   "metadata": {
    "scrolled": true
   },
   "outputs": [],
   "source": [
    "#tokenization\n",
    "# revs = df['reviews']\n",
    "# for i in range (len(revs)):\n",
    "#     revs[i] = nltk.word_tokenize(df[\"reviews\"][i])\n",
    "# df['reviews']=revs "
   ]
  },
  {
   "attachments": {},
   "cell_type": "markdown",
   "id": "a6bf5777",
   "metadata": {},
   "source": [
    "Tokenization"
   ]
  },
  {
   "cell_type": "code",
   "execution_count": 10,
   "id": "91b2b17d",
   "metadata": {},
   "outputs": [],
   "source": [
    "# tokensization\n",
    "df['reviews'] = df['reviews'].apply(str.split)"
   ]
  },
  {
   "cell_type": "code",
   "execution_count": 11,
   "id": "a663889a",
   "metadata": {},
   "outputs": [
    {
     "data": {
      "text/plain": [
       "0                                        [love, my, echo]\n",
       "1                                             [loved, it]\n",
       "2       [sometimes, while, playing, a, game, you, can,...\n",
       "3       [i, have, had, a, lot, of, fun, with, this, th...\n",
       "4                                                 [music]\n",
       "                              ...                        \n",
       "3145    [perfect, for, kids, adults, and, everyone, in...\n",
       "3146    [listening, to, music, searching, locations, c...\n",
       "3147    [i, do, love, these, things, i, have, them, ru...\n",
       "3148    [only, complaint, i, have, is, that, the, soun...\n",
       "3149                                               [good]\n",
       "Name: reviews, Length: 3150, dtype: object"
      ]
     },
     "execution_count": 11,
     "metadata": {},
     "output_type": "execute_result"
    }
   ],
   "source": [
    "df['reviews']"
   ]
  },
  {
   "attachments": {},
   "cell_type": "markdown",
   "id": "3d169602",
   "metadata": {},
   "source": [
    "Removing Stopwords"
   ]
  },
  {
   "cell_type": "code",
   "execution_count": 12,
   "id": "410359a3",
   "metadata": {},
   "outputs": [],
   "source": [
    "# removing stopwords\n",
    "\n",
    "def removeStopwords(sentence) :\n",
    "    for word in sentence:\n",
    "        if word in stopwords.words('english'):\n",
    "            sentence.remove(word)\n",
    "    return sentence\n",
    "\n",
    "df['reviews'] = df['reviews'].apply(removeStopwords)"
   ]
  },
  {
   "cell_type": "code",
   "execution_count": 13,
   "id": "df216e80",
   "metadata": {},
   "outputs": [
    {
     "data": {
      "text/plain": [
       "0                                            [love, echo]\n",
       "1                                                 [loved]\n",
       "2       [sometimes, playing, game, can, answer, questi...\n",
       "3       [have, a, lot, fun, this, thing, yr, old, lear...\n",
       "4                                                 [music]\n",
       "                              ...                        \n",
       "3145           [perfect, kids, adults, everyone, between]\n",
       "3146    [listening, music, searching, locations, check...\n",
       "3147    [do, love, things, have, running, entire, home...\n",
       "3148    [complaint, sound, quality, great, mostly, use...\n",
       "3149                                               [good]\n",
       "Name: reviews, Length: 3150, dtype: object"
      ]
     },
     "execution_count": 13,
     "metadata": {},
     "output_type": "execute_result"
    }
   ],
   "source": [
    "df['reviews']"
   ]
  },
  {
   "attachments": {},
   "cell_type": "markdown",
   "id": "1a6665ef",
   "metadata": {},
   "source": [
    "Stemming"
   ]
  },
  {
   "cell_type": "code",
   "execution_count": 14,
   "id": "1e486092",
   "metadata": {},
   "outputs": [],
   "source": [
    "stemmer = PorterStemmer()\n",
    "for rev in df['reviews']:\n",
    "    for w in range (len(rev)):\n",
    "        rev[w] = stemmer.stem(rev[w])\n"
   ]
  },
  {
   "cell_type": "code",
   "execution_count": 15,
   "id": "ff20d7a9",
   "metadata": {},
   "outputs": [
    {
     "data": {
      "text/html": [
       "<div>\n",
       "<style scoped>\n",
       "    .dataframe tbody tr th:only-of-type {\n",
       "        vertical-align: middle;\n",
       "    }\n",
       "\n",
       "    .dataframe tbody tr th {\n",
       "        vertical-align: top;\n",
       "    }\n",
       "\n",
       "    .dataframe thead th {\n",
       "        text-align: right;\n",
       "    }\n",
       "</style>\n",
       "<table border=\"1\" class=\"dataframe\">\n",
       "  <thead>\n",
       "    <tr style=\"text-align: right;\">\n",
       "      <th></th>\n",
       "      <th>reviews</th>\n",
       "      <th>sentiment</th>\n",
       "    </tr>\n",
       "  </thead>\n",
       "  <tbody>\n",
       "    <tr>\n",
       "      <th>0</th>\n",
       "      <td>[love, echo]</td>\n",
       "      <td>1</td>\n",
       "    </tr>\n",
       "    <tr>\n",
       "      <th>1</th>\n",
       "      <td>[love]</td>\n",
       "      <td>1</td>\n",
       "    </tr>\n",
       "    <tr>\n",
       "      <th>2</th>\n",
       "      <td>[sometim, play, game, can, answer, question, c...</td>\n",
       "      <td>1</td>\n",
       "    </tr>\n",
       "    <tr>\n",
       "      <th>3</th>\n",
       "      <td>[have, a, lot, fun, thi, thing, yr, old, learn...</td>\n",
       "      <td>1</td>\n",
       "    </tr>\n",
       "    <tr>\n",
       "      <th>4</th>\n",
       "      <td>[music]</td>\n",
       "      <td>1</td>\n",
       "    </tr>\n",
       "  </tbody>\n",
       "</table>\n",
       "</div>"
      ],
      "text/plain": [
       "                                             reviews  sentiment\n",
       "0                                       [love, echo]          1\n",
       "1                                             [love]          1\n",
       "2  [sometim, play, game, can, answer, question, c...          1\n",
       "3  [have, a, lot, fun, thi, thing, yr, old, learn...          1\n",
       "4                                            [music]          1"
      ]
     },
     "execution_count": 15,
     "metadata": {},
     "output_type": "execute_result"
    }
   ],
   "source": [
    "df.head()"
   ]
  },
  {
   "attachments": {},
   "cell_type": "markdown",
   "id": "a87c3292",
   "metadata": {},
   "source": [
    "# Oversampling"
   ]
  },
  {
   "cell_type": "code",
   "execution_count": 16,
   "id": "ec81f4c2",
   "metadata": {},
   "outputs": [
    {
     "name": "stdout",
     "output_type": "stream",
     "text": [
      "                                                reviews  sentiment\n",
      "1227          [product, turn, randomli, sometim, night]          0\n",
      "1118          [returnef, item, it, not, speak, spanish]          0\n",
      "1602  [return, repair, repair, done, ha, problem, re...          0\n",
      "2098  [got, month, ago, idea, help, control, smart, ...          0\n",
      "1625  [famili, bought, sever, help, commun, older, p...          0\n",
      "...                                                 ...        ...\n",
      "3145            [perfect, kid, adult, everyon, between]          1\n",
      "3146  [listen, music, search, locat, check, time, lo...          1\n",
      "3147  [do, love, thing, have, run, entir, home, tv, ...          1\n",
      "3148  [complaint, sound, qualiti, great, mostli, use...          1\n",
      "3149                                             [good]          1\n",
      "\n",
      "[5786 rows x 2 columns]\n"
     ]
    }
   ],
   "source": [
    "df_class_0 = df[df['sentiment'] == 0]\n",
    "df_class_1 = df[df['sentiment'] == 1]\n",
    "df_class_0.shape\n",
    "df_class_1.shape\n",
    "df_oversample_0 = df_class_0.sample(2893,replace = True)\n",
    "new_df_column = pd.concat([df_oversample_0, df_class_1], axis = 0)\n",
    "\n",
    "print(new_df_column)"
   ]
  },
  {
   "attachments": {},
   "cell_type": "markdown",
   "id": "eb33fe80",
   "metadata": {},
   "source": [
    "# TF-IDF Vectorizer"
   ]
  },
  {
   "cell_type": "code",
   "execution_count": 17,
   "id": "37da45d9",
   "metadata": {},
   "outputs": [],
   "source": [
    "# tf-idf vectorizer\n",
    "from sklearn.feature_extraction.text import TfidfVectorizer\n",
    "\n",
    "vectorizer = TfidfVectorizer(analyzer=lambda x: x)\n",
    "X = vectorizer.fit_transform(new_df_column['reviews'])"
   ]
  },
  {
   "cell_type": "code",
   "execution_count": 18,
   "id": "2e245b9d",
   "metadata": {},
   "outputs": [
    {
     "name": "stdout",
     "output_type": "stream",
     "text": [
      "  (0, 1672)\t0.4766747665295521\n",
      "  (0, 2324)\t0.5172349643252913\n",
      "  (0, 1992)\t0.5347048673451884\n",
      "  (0, 2650)\t0.36645763831631184\n",
      "  (0, 1938)\t0.29163103879801194\n",
      "  (1, 2350)\t0.526768276363395\n",
      "  (1, 2353)\t0.41063037185573514\n",
      "  (1, 1690)\t0.24067465545217157\n",
      "  (1, 1341)\t0.19707903229852058\n",
      "  (1, 1345)\t0.3486868476074048\n",
      "  (1, 2098)\t0.5792675791753119\n",
      "  (2, 1894)\t0.18803849025590688\n",
      "  (2, 1829)\t0.17831479915906567\n",
      "  (2, 2843)\t0.0763092558141203\n",
      "  (2, 2376)\t0.1359593977731952\n",
      "  (2, 783)\t0.08018425753956093\n",
      "  (2, 0)\t0.08252073543801679\n",
      "  (2, 1142)\t0.08887350073973502\n",
      "  (2, 1230)\t0.07619277629420458\n",
      "  (2, 1789)\t0.2141229788655221\n",
      "  (2, 2530)\t0.13430176871737987\n",
      "  (2, 506)\t0.2037645126945029\n",
      "  (2, 2587)\t0.09452148431873154\n",
      "  (2, 1750)\t0.16945836260601016\n",
      "  (2, 1679)\t0.14030257301464963\n",
      "  :\t:\n",
      "  (5784, 739)\t0.11832083268305374\n",
      "  (5784, 1971)\t0.2284479250935691\n",
      "  (5784, 2340)\t0.08952161289090418\n",
      "  (5784, 2529)\t0.21365412806135867\n",
      "  (5784, 2481)\t0.07979581528565832\n",
      "  (5784, 126)\t0.12226330880283014\n",
      "  (5784, 1062)\t0.1141183093173389\n",
      "  (5784, 1092)\t0.08207898494894857\n",
      "  (5784, 568)\t0.15609744482555984\n",
      "  (5784, 745)\t0.18182263604100754\n",
      "  (5784, 2547)\t0.09009600180236686\n",
      "  (5784, 189)\t0.1580593200974986\n",
      "  (5784, 1622)\t0.0864594576298942\n",
      "  (5784, 1008)\t0.14398815323145586\n",
      "  (5784, 1519)\t0.11009823825627271\n",
      "  (5784, 490)\t0.13625759736481285\n",
      "  (5784, 2715)\t0.0759102789967612\n",
      "  (5784, 783)\t0.07278649903747865\n",
      "  (5784, 0)\t0.07490741468258695\n",
      "  (5784, 1142)\t0.16134815422736912\n",
      "  (5784, 1230)\t0.13832653961196273\n",
      "  (5784, 2530)\t0.06095557818600696\n",
      "  (5784, 2587)\t0.17160196124512447\n",
      "  (5784, 982)\t0.10233421684701903\n",
      "  (5785, 1069)\t1.0\n"
     ]
    }
   ],
   "source": [
    "print(X)"
   ]
  },
  {
   "cell_type": "code",
   "execution_count": 19,
   "id": "a8abfc63",
   "metadata": {},
   "outputs": [],
   "source": [
    "y = new_df_column['sentiment']"
   ]
  },
  {
   "cell_type": "code",
   "execution_count": 20,
   "id": "8433ac64",
   "metadata": {},
   "outputs": [
    {
     "data": {
      "text/plain": [
       "1227    0\n",
       "1118    0\n",
       "1602    0\n",
       "2098    0\n",
       "1625    0\n",
       "       ..\n",
       "3145    1\n",
       "3146    1\n",
       "3147    1\n",
       "3148    1\n",
       "3149    1\n",
       "Name: sentiment, Length: 5786, dtype: int64"
      ]
     },
     "execution_count": 20,
     "metadata": {},
     "output_type": "execute_result"
    }
   ],
   "source": [
    "y"
   ]
  },
  {
   "cell_type": "code",
   "execution_count": 21,
   "id": "88ee61b5",
   "metadata": {},
   "outputs": [],
   "source": [
    "TEST_SIZE = 0.2\n",
    "RANDOM_STATE = 15\n",
    "\n",
    "X_train, X_test, y_train, y_test = train_test_split(X, y, test_size = TEST_SIZE, random_state = RANDOM_STATE)\n"
   ]
  },
  {
   "attachments": {},
   "cell_type": "markdown",
   "id": "5766d547",
   "metadata": {},
   "source": [
    "# Machine Learning Models"
   ]
  },
  {
   "attachments": {},
   "cell_type": "markdown",
   "id": "e61ecd89",
   "metadata": {},
   "source": [
    "Multinomial Naive Bayes Classification"
   ]
  },
  {
   "cell_type": "code",
   "execution_count": 22,
   "id": "84268529",
   "metadata": {},
   "outputs": [
    {
     "name": "stdout",
     "output_type": "stream",
     "text": [
      "              precision    recall  f1-score   support\n",
      "\n",
      "           0       0.91      0.88      0.89       582\n",
      "           1       0.88      0.91      0.89       576\n",
      "\n",
      "    accuracy                           0.89      1158\n",
      "   macro avg       0.89      0.89      0.89      1158\n",
      "weighted avg       0.89      0.89      0.89      1158\n",
      "\n"
     ]
    },
    {
     "data": {
      "image/png": "[encoded data removed]",
      "text/plain": [
       "<Figure size 640x480 with 2 Axes>"
      ]
     },
     "metadata": {},
     "output_type": "display_data"
    }
   ],
   "source": [
    "from sklearn.naive_bayes import MultinomialNB \n",
    "NB_classifier = MultinomialNB()\n",
    "NB_classifier.fit(X_train,y_train)\n",
    "\n",
    "nb_pred = NB_classifier.predict(X_test)\n",
    "\n",
    "cm = confusion_matrix(nb_pred, y_test)\n",
    "sns.heatmap(cm, annot = True)\n",
    "\n",
    "print(classification_report(y_test, nb_pred))"
   ]
  },
  {
   "attachments": {},
   "cell_type": "markdown",
   "id": "14bad9f4",
   "metadata": {},
   "source": [
    "Logistic Regression\n"
   ]
  },
  {
   "cell_type": "code",
   "execution_count": 23,
   "id": "23d1feeb",
   "metadata": {},
   "outputs": [
    {
     "name": "stdout",
     "output_type": "stream",
     "text": [
      "              precision    recall  f1-score   support\n",
      "\n",
      "           0       0.90      1.00      0.95       582\n",
      "           1       1.00      0.89      0.94       576\n",
      "\n",
      "    accuracy                           0.94      1158\n",
      "   macro avg       0.95      0.94      0.94      1158\n",
      "weighted avg       0.95      0.94      0.94      1158\n",
      "\n"
     ]
    },
    {
     "data": {
      "image/png": "[encoded data removed]",
      "text/plain": [
       "<Figure size 640x480 with 2 Axes>"
      ]
     },
     "metadata": {},
     "output_type": "display_data"
    }
   ],
   "source": [
    "from sklearn.linear_model import LogisticRegression\n",
    "\n",
    "model = LogisticRegression()\n",
    "model.fit(X_train, y_train)\n",
    "\n",
    "lr_pred = model.predict(X_test)\n",
    "\n",
    "cm = confusion_matrix(lr_pred, y_test)\n",
    "sns.heatmap(cm, annot = True)\n",
    "\n",
    "print(classification_report(y_test, lr_pred))"
   ]
  },
  {
   "attachments": {},
   "cell_type": "markdown",
   "id": "33c3c1cd",
   "metadata": {},
   "source": [
    "KNN"
   ]
  },
  {
   "cell_type": "code",
   "execution_count": 24,
   "id": "83ff62fe",
   "metadata": {},
   "outputs": [
    {
     "name": "stdout",
     "output_type": "stream",
     "text": [
      "              precision    recall  f1-score   support\n",
      "\n",
      "           0       0.62      1.00      0.77       582\n",
      "           1       1.00      0.39      0.56       576\n",
      "\n",
      "    accuracy                           0.69      1158\n",
      "   macro avg       0.81      0.69      0.66      1158\n",
      "weighted avg       0.81      0.69      0.66      1158\n",
      "\n"
     ]
    },
    {
     "data": {
      "image/png": "[encoded data removed]",
      "text/plain": [
       "<Figure size 640x480 with 2 Axes>"
      ]
     },
     "metadata": {},
     "output_type": "display_data"
    }
   ],
   "source": [
    "from sklearn.neighbors import KNeighborsClassifier \n",
    "knn = KNeighborsClassifier()\n",
    "knn.fit(X_train,y_train)\n",
    "\n",
    "knn_pred = knn.predict(X_test)\n",
    "\n",
    "cm = confusion_matrix(knn_pred, y_test)\n",
    "sns.heatmap(cm, annot = True)\n",
    "\n",
    "print(classification_report(y_test, knn_pred))"
   ]
  },
  {
   "attachments": {},
   "cell_type": "markdown",
   "id": "b65fd7bc",
   "metadata": {},
   "source": [
    "Logistic Regression and Multinomial Naive Bayes are recommended as high accuracy is obtained."
   ]
  }
 ],
 "metadata": {
  "kernelspec": {
   "display_name": "base",
   "language": "python",
   "name": "python3"
  },
  "language_info": {
   "codemirror_mode": {
    "name": "ipython",
    "version": 3
   },
   "file_extension": ".py",
   "mimetype": "text/x-python",
   "name": "python",
   "nbconvert_exporter": "python",
   "pygments_lexer": "ipython3",
   "version": "3.9.13"
  },
  "vscode": {
   "interpreter": {
    "hash": "8215f8fb565576a377b72a191f79515352edc4d036713fafd1a00a90d3e469c2"
   }
  }
 },
 "nbformat": 4,
 "nbformat_minor": 5
}
